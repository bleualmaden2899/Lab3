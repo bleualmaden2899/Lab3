{
  "nbformat": 4,
  "nbformat_minor": 0,
  "metadata": {
    "colab": {
      "name": "Lab3.ipynb",
      "provenance": [],
      "collapsed_sections": []
    },
    "kernelspec": {
      "name": "python3",
      "display_name": "Python 3"
    }
  },
  "cells": [
    {
      "cell_type": "markdown",
      "metadata": {
        "id": "5PZyL6Xfc_Qb"
      },
      "source": [
        "# **Linear Algebra for CpE**\n",
        "\n",
        "**Laboratory 3 : Linear Combination and Vector Spaces**"
      ]
    },
    {
      "cell_type": "code",
      "metadata": {
        "id": "WL9lY6HC7w2C"
      },
      "source": [
        "import numpy as np\n",
        "import matplotlib.pyplot as plt\n",
        "%matplotlib inline\n"
      ],
      "execution_count": null,
      "outputs": []
    },
    {
      "cell_type": "markdown",
      "metadata": {
        "id": "JaHm0E4sJzmm"
      },
      "source": [
        "$$A = Constant\\cdot \\begin{bmatrix} 2x+4y \\\\\\end{bmatrix} , B = Constant\\cdot \\begin{bmatrix} 1x+3y \\\\\\end{bmatrix} $$\n",
        "$$A = Constant\\cdot \\begin{bmatrix} 2\\\\4 \\\\\\end{bmatrix} , B = Constant\\cdot \\begin{bmatrix} 1\\\\3 \\\\\\end{bmatrix} $$\n"
      ]
    },
    {
      "cell_type": "code",
      "metadata": {
        "id": "R_ZPRmql78JB"
      },
      "source": [
        "A = np.array([2,4])\n",
        "B = np.array([1,3])\n"
      ],
      "execution_count": null,
      "outputs": []
    },
    {
      "cell_type": "code",
      "metadata": {
        "id": "Y2TG99wM8Ls6",
        "outputId": "0896a247-f0f1-4aa4-827b-722deda10a36",
        "colab": {
          "base_uri": "https://localhost:8080/",
          "height": 295
        }
      },
      "source": [
        "Constant = np.arange(-8,8,.20)\n",
        "plt.scatter(Constant*A[0],Constant*A[1], color = 'red')\n",
        "plt.scatter(Constant*B[0],Constant*B[1], color = 'blue')\n",
        "plt.xlim(-8,8)\n",
        "plt.ylim(-8,8)\n",
        "plt.axhline(y=0, color='green')\n",
        "plt.axvline(x=0, color='green')\n",
        "plt.grid()\n",
        "plt.xlabel(\"x-axis\")\n",
        "plt.ylabel(\"y-axis\")\n",
        "plt.title(\"Scalar\")\n",
        "plt.show()"
      ],
      "execution_count": null,
      "outputs": [
        {
          "output_type": "display_data",
          "data": {
            "image/png": "[encoded data removed]",
            "text/plain": [
              "<Figure size 432x288 with 1 Axes>"
            ]
          },
          "metadata": {
            "tags": [],
            "needs_background": "light"
          }
        }
      ]
    },
    {
      "cell_type": "code",
      "metadata": {
        "id": "3KYMCEnKYOWq"
      },
      "source": [
        "import numpy as np\n",
        "import matplotlib.pyplot as plt\n",
        "%matplotlib inline"
      ],
      "execution_count": null,
      "outputs": []
    },
    {
      "cell_type": "markdown",
      "metadata": {
        "id": "UCMkKFspcJJ4"
      },
      "source": [
        "$$A = Constant\\cdot \\begin{bmatrix} 4x+0y \\\\\\end{bmatrix} , B = Constant\\cdot \\begin{bmatrix} 3x-1y \\\\\\end{bmatrix} $$\n",
        "$$A = Constant\\cdot \\begin{bmatrix} 4\\\\0 \\\\\\end{bmatrix} , B = Constant\\cdot \\begin{bmatrix} 3\\\\-1 \\\\\\end{bmatrix} $$"
      ]
    },
    {
      "cell_type": "code",
      "metadata": {
        "id": "Vt35xrCfaGl2",
        "outputId": "653de934-0f58-42b5-d7a0-82d63ad157a7",
        "colab": {
          "base_uri": "https://localhost:8080/",
          "height": 265
        }
      },
      "source": [
        "A = np.array([4,0])\n",
        "B = np.array([3,-1])\n",
        "R = np.arange(-10,10,1)\n",
        "Constant1, Constant2 = np.meshgrid(R,R)\n",
        "spanRx = Constant1*A[0] + Constant2*B[0]\n",
        "spanRy = Constant1*A[1] + Constant2*B[1]\n",
        "plt.scatter(spanRx,spanRy, s=5, alpha=0.75)\n",
        "\n",
        "plt.axhline(y=0, color='green')\n",
        "plt.axvline(x=0, color='green')\n",
        "plt.grid()\n",
        "plt.show()"
      ],
      "execution_count": null,
      "outputs": [
        {
          "output_type": "display_data",
          "data": {
            "image/png": "[encoded data removed]",
            "text/plain": [
              "<Figure size 432x288 with 1 Axes>"
            ]
          },
          "metadata": {
            "tags": [],
            "needs_background": "light"
          }
        }
      ]
    },
    {
      "cell_type": "markdown",
      "metadata": {
        "id": "1ECPJiGtepLx"
      },
      "source": [
        "$$A = Constant\\cdot \\begin{bmatrix} 0x+4y \\\\\\end{bmatrix} , B = Constant\\cdot \\begin{bmatrix} -1x-3y \\\\\\end{bmatrix} $$\n",
        "$$A = Constant\\cdot \\begin{bmatrix} 0\\\\4 \\\\\\end{bmatrix} , B = Constant\\cdot \\begin{bmatrix} -1\\\\-3 \\\\\\end{bmatrix} $$\n"
      ]
    },
    {
      "cell_type": "code",
      "metadata": {
        "id": "ll3UBNCEaQse",
        "outputId": "42cc9ea8-8565-49b3-81cc-1b3d34850646",
        "colab": {
          "base_uri": "https://localhost:8080/",
          "height": 265
        }
      },
      "source": [
        "A = np.array([0,4])\n",
        "B = np.array([-1,-3])\n",
        "R = np.arange(-10,10,1)\n",
        "Constant1, Constant2 = np.meshgrid(R,R)\n",
        "spanRx = Constant1*A[0] + Constant2*B[0]\n",
        "spanRy = Constant1*A[1] + Constant2*B[1]\n",
        "plt.scatter(spanRx,spanRy, s=5, alpha=0.75)\n",
        "\n",
        "plt.axhline(y=0, color='green')\n",
        "plt.axvline(x=0, color='green')\n",
        "plt.grid()\n",
        "plt.show()"
      ],
      "execution_count": null,
      "outputs": [
        {
          "output_type": "display_data",
          "data": {
            "image/png": "[encoded data removed]",
            "text/plain": [
              "<Figure size 432x288 with 1 Axes>"
            ]
          },
          "metadata": {
            "tags": [],
            "needs_background": "light"
          }
        }
      ]
    },
    {
      "cell_type": "markdown",
      "metadata": {
        "id": "QFs5ZyKsetX0"
      },
      "source": [
        "$$A = Constant\\cdot \\begin{bmatrix} 6x+0y \\\\\\end{bmatrix} , B = Constant\\cdot \\begin{bmatrix} -1x+3y \\\\\\end{bmatrix} $$\n",
        "$$A = Constant\\cdot \\begin{bmatrix} 6\\\\0 \\\\\\end{bmatrix} , B = Constant\\cdot \\begin{bmatrix} -1\\\\3 \\\\\\end{bmatrix} $$\n",
        "\n",
        "\n"
      ]
    },
    {
      "cell_type": "code",
      "metadata": {
        "id": "OuSB0jJTa5vW",
        "outputId": "0a135b26-c578-42ff-86c1-582c7bce8abe",
        "colab": {
          "base_uri": "https://localhost:8080/",
          "height": 265
        }
      },
      "source": [
        "A = np.array([6,0])\n",
        "B = np.array([-1,3])\n",
        "R = np.arange(-10,10,1)\n",
        "Constant1, Constant2 = np.meshgrid(R,R)\n",
        "spanRx = Constant1*A[0] + Constant2*B[0]\n",
        "spanRy = Constant1*A[1] + Constant2*B[1]\n",
        "plt.scatter(spanRx,spanRy, s=5, alpha=0.75)\n",
        "\n",
        "plt.axhline(y=0, color='green')\n",
        "plt.axvline(x=0, color='green')\n",
        "plt.grid()\n",
        "plt.show()"
      ],
      "execution_count": null,
      "outputs": [
        {
          "output_type": "display_data",
          "data": {
            "image/png": "[encoded data removed]",
            "text/plain": [
              "<Figure size 432x288 with 1 Axes>"
            ]
          },
          "metadata": {
            "tags": [],
            "needs_background": "light"
          }
        }
      ]
    },
    {
      "cell_type": "code",
      "metadata": {
        "id": "rvKcPE4Ya9Du"
      },
      "source": [
        ""
      ],
      "execution_count": null,
      "outputs": []
    }
  ]
}